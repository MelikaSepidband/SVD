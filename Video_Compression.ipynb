{
 "cells": [
  {
   "cell_type": "markdown",
   "id": "b7c2d284",
   "metadata": {},
   "source": [
    "## import libraries"
   ]
  },
  {
   "cell_type": "code",
   "execution_count": 392,
   "id": "aabd3f4b",
   "metadata": {},
   "outputs": [],
   "source": [
    "import cv2\n",
    "import tensorly as tl\n",
    "import numpy as np"
   ]
  },
  {
   "cell_type": "markdown",
   "id": "7efddbfd",
   "metadata": {},
   "source": [
    "## reading the video"
   ]
  },
  {
   "cell_type": "code",
   "execution_count": 393,
   "id": "1ad05b0a",
   "metadata": {},
   "outputs": [],
   "source": [
    "source = cv2.VideoCapture('ghasedak.mp4')"
   ]
  },
  {
   "cell_type": "markdown",
   "id": "da4f8a3d",
   "metadata": {},
   "source": [
    "## number of frames"
   ]
  },
  {
   "cell_type": "code",
   "execution_count": 394,
   "id": "a8aadb94",
   "metadata": {},
   "outputs": [
    {
     "data": {
      "text/plain": [
       "129"
      ]
     },
     "execution_count": 394,
     "metadata": {},
     "output_type": "execute_result"
    }
   ],
   "source": [
    "video_frame = int(source.get(cv2.CAP_PROP_FRAME_COUNT))\n",
    "video_frame"
   ]
  },
  {
   "cell_type": "markdown",
   "id": "a62effe3",
   "metadata": {},
   "source": [
    "## convert video to tensor"
   ]
  },
  {
   "cell_type": "code",
   "execution_count": 395,
   "id": "a6973314",
   "metadata": {},
   "outputs": [],
   "source": [
    "frames_array=[]\n",
    "frame_nb=0\n",
    "while source.isOpened() and frame_nb < video_frame:\n",
    "    ret, frame = source.read()\n",
    "    if not ret:\n",
    "        break\n",
    "    frames_array.append(frame)\n",
    "    if cv2.waitKey(1) & 0xFF == ord('q'):\n",
    "        break\n",
    "    frame_nb += 1\n",
    "source.release()\n",
    "cv2.destroyAllWindows()"
   ]
  },
  {
   "cell_type": "code",
   "execution_count": 396,
   "id": "8a000faa",
   "metadata": {},
   "outputs": [
    {
     "data": {
      "text/plain": [
       "array([[[[221, 221, 221],\n",
       "         [221, 221, 221],\n",
       "         [221, 221, 221],\n",
       "         ...,\n",
       "         [ 90,  90,  90],\n",
       "         [ 90,  90,  90],\n",
       "         [ 90,  90,  90]],\n",
       "\n",
       "        [[221, 221, 221],\n",
       "         [221, 221, 221],\n",
       "         [221, 221, 221],\n",
       "         ...,\n",
       "         [ 90,  90,  90],\n",
       "         [ 90,  90,  90],\n",
       "         [ 90,  90,  90]],\n",
       "\n",
       "        [[221, 221, 221],\n",
       "         [221, 221, 221],\n",
       "         [221, 221, 221],\n",
       "         ...,\n",
       "         [ 90,  90,  90],\n",
       "         [ 90,  90,  90],\n",
       "         [ 90,  90,  90]],\n",
       "\n",
       "        ...,\n",
       "\n",
       "        [[ 78,  78,  78],\n",
       "         [ 78,  78,  78],\n",
       "         [ 79,  79,  79],\n",
       "         ...,\n",
       "         [ 61,  61,  61],\n",
       "         [ 59,  59,  59],\n",
       "         [ 58,  58,  58]],\n",
       "\n",
       "        [[ 78,  78,  78],\n",
       "         [ 78,  78,  78],\n",
       "         [ 79,  79,  79],\n",
       "         ...,\n",
       "         [ 60,  60,  60],\n",
       "         [ 58,  58,  58],\n",
       "         [ 57,  57,  57]],\n",
       "\n",
       "        [[ 76,  76,  76],\n",
       "         [ 76,  76,  76],\n",
       "         [ 78,  78,  78],\n",
       "         ...,\n",
       "         [ 60,  60,  60],\n",
       "         [ 58,  58,  58],\n",
       "         [ 57,  57,  57]]],\n",
       "\n",
       "\n",
       "       [[[221, 221, 221],\n",
       "         [221, 221, 221],\n",
       "         [221, 221, 221],\n",
       "         ...,\n",
       "         [ 90,  90,  90],\n",
       "         [ 90,  90,  90],\n",
       "         [ 90,  90,  90]],\n",
       "\n",
       "        [[221, 221, 221],\n",
       "         [221, 221, 221],\n",
       "         [221, 221, 221],\n",
       "         ...,\n",
       "         [ 90,  90,  90],\n",
       "         [ 90,  90,  90],\n",
       "         [ 90,  90,  90]],\n",
       "\n",
       "        [[221, 221, 221],\n",
       "         [221, 221, 221],\n",
       "         [221, 221, 221],\n",
       "         ...,\n",
       "         [ 90,  90,  90],\n",
       "         [ 90,  90,  90],\n",
       "         [ 90,  90,  90]],\n",
       "\n",
       "        ...,\n",
       "\n",
       "        [[ 78,  78,  78],\n",
       "         [ 78,  78,  78],\n",
       "         [ 79,  79,  79],\n",
       "         ...,\n",
       "         [ 61,  61,  61],\n",
       "         [ 59,  59,  59],\n",
       "         [ 58,  58,  58]],\n",
       "\n",
       "        [[ 78,  78,  78],\n",
       "         [ 78,  78,  78],\n",
       "         [ 79,  79,  79],\n",
       "         ...,\n",
       "         [ 60,  60,  60],\n",
       "         [ 58,  58,  58],\n",
       "         [ 57,  57,  57]],\n",
       "\n",
       "        [[ 76,  76,  76],\n",
       "         [ 76,  76,  76],\n",
       "         [ 78,  78,  78],\n",
       "         ...,\n",
       "         [ 60,  60,  60],\n",
       "         [ 58,  58,  58],\n",
       "         [ 57,  57,  57]]],\n",
       "\n",
       "\n",
       "       [[[221, 221, 221],\n",
       "         [221, 221, 221],\n",
       "         [221, 221, 221],\n",
       "         ...,\n",
       "         [ 90,  90,  90],\n",
       "         [ 90,  90,  90],\n",
       "         [ 90,  90,  90]],\n",
       "\n",
       "        [[221, 221, 221],\n",
       "         [221, 221, 221],\n",
       "         [221, 221, 221],\n",
       "         ...,\n",
       "         [ 90,  90,  90],\n",
       "         [ 90,  90,  90],\n",
       "         [ 90,  90,  90]],\n",
       "\n",
       "        [[221, 221, 221],\n",
       "         [221, 221, 221],\n",
       "         [221, 221, 221],\n",
       "         ...,\n",
       "         [ 90,  90,  90],\n",
       "         [ 90,  90,  90],\n",
       "         [ 90,  90,  90]],\n",
       "\n",
       "        ...,\n",
       "\n",
       "        [[ 78,  78,  78],\n",
       "         [ 78,  78,  78],\n",
       "         [ 79,  79,  79],\n",
       "         ...,\n",
       "         [ 61,  61,  61],\n",
       "         [ 59,  59,  59],\n",
       "         [ 58,  58,  58]],\n",
       "\n",
       "        [[ 78,  78,  78],\n",
       "         [ 78,  78,  78],\n",
       "         [ 79,  79,  79],\n",
       "         ...,\n",
       "         [ 60,  60,  60],\n",
       "         [ 58,  58,  58],\n",
       "         [ 57,  57,  57]],\n",
       "\n",
       "        [[ 76,  76,  76],\n",
       "         [ 76,  76,  76],\n",
       "         [ 78,  78,  78],\n",
       "         ...,\n",
       "         [ 60,  60,  60],\n",
       "         [ 58,  58,  58],\n",
       "         [ 57,  57,  57]]],\n",
       "\n",
       "\n",
       "       ...,\n",
       "\n",
       "\n",
       "       [[[222, 222, 222],\n",
       "         [222, 222, 222],\n",
       "         [222, 222, 222],\n",
       "         ...,\n",
       "         [ 90,  90,  90],\n",
       "         [ 91,  91,  91],\n",
       "         [ 91,  91,  91]],\n",
       "\n",
       "        [[222, 222, 222],\n",
       "         [222, 222, 222],\n",
       "         [222, 222, 222],\n",
       "         ...,\n",
       "         [ 90,  90,  90],\n",
       "         [ 91,  91,  91],\n",
       "         [ 91,  91,  91]],\n",
       "\n",
       "        [[222, 222, 222],\n",
       "         [222, 222, 222],\n",
       "         [222, 222, 222],\n",
       "         ...,\n",
       "         [ 90,  90,  90],\n",
       "         [ 91,  91,  91],\n",
       "         [ 91,  91,  91]],\n",
       "\n",
       "        ...,\n",
       "\n",
       "        [[ 76,  76,  76],\n",
       "         [ 76,  76,  76],\n",
       "         [ 79,  79,  79],\n",
       "         ...,\n",
       "         [ 60,  60,  60],\n",
       "         [ 58,  58,  58],\n",
       "         [ 57,  57,  57]],\n",
       "\n",
       "        [[ 75,  75,  75],\n",
       "         [ 75,  75,  75],\n",
       "         [ 78,  78,  78],\n",
       "         ...,\n",
       "         [ 59,  59,  59],\n",
       "         [ 57,  57,  57],\n",
       "         [ 55,  55,  55]],\n",
       "\n",
       "        [[ 75,  75,  75],\n",
       "         [ 75,  75,  75],\n",
       "         [ 78,  78,  78],\n",
       "         ...,\n",
       "         [ 59,  59,  59],\n",
       "         [ 57,  57,  57],\n",
       "         [ 55,  55,  55]]],\n",
       "\n",
       "\n",
       "       [[[222, 222, 222],\n",
       "         [222, 222, 222],\n",
       "         [222, 222, 222],\n",
       "         ...,\n",
       "         [ 90,  90,  90],\n",
       "         [ 91,  91,  91],\n",
       "         [ 91,  91,  91]],\n",
       "\n",
       "        [[222, 222, 222],\n",
       "         [222, 222, 222],\n",
       "         [222, 222, 222],\n",
       "         ...,\n",
       "         [ 90,  90,  90],\n",
       "         [ 91,  91,  91],\n",
       "         [ 91,  91,  91]],\n",
       "\n",
       "        [[222, 222, 222],\n",
       "         [222, 222, 222],\n",
       "         [222, 222, 222],\n",
       "         ...,\n",
       "         [ 90,  90,  90],\n",
       "         [ 91,  91,  91],\n",
       "         [ 91,  91,  91]],\n",
       "\n",
       "        ...,\n",
       "\n",
       "        [[ 76,  76,  76],\n",
       "         [ 76,  76,  76],\n",
       "         [ 79,  79,  79],\n",
       "         ...,\n",
       "         [ 60,  60,  60],\n",
       "         [ 58,  58,  58],\n",
       "         [ 57,  57,  57]],\n",
       "\n",
       "        [[ 75,  75,  75],\n",
       "         [ 75,  75,  75],\n",
       "         [ 78,  78,  78],\n",
       "         ...,\n",
       "         [ 59,  59,  59],\n",
       "         [ 57,  57,  57],\n",
       "         [ 55,  55,  55]],\n",
       "\n",
       "        [[ 75,  75,  75],\n",
       "         [ 75,  75,  75],\n",
       "         [ 78,  78,  78],\n",
       "         ...,\n",
       "         [ 59,  59,  59],\n",
       "         [ 57,  57,  57],\n",
       "         [ 55,  55,  55]]],\n",
       "\n",
       "\n",
       "       [[[222, 222, 222],\n",
       "         [222, 222, 222],\n",
       "         [222, 222, 222],\n",
       "         ...,\n",
       "         [ 90,  90,  90],\n",
       "         [ 91,  91,  91],\n",
       "         [ 91,  91,  91]],\n",
       "\n",
       "        [[222, 222, 222],\n",
       "         [222, 222, 222],\n",
       "         [222, 222, 222],\n",
       "         ...,\n",
       "         [ 90,  90,  90],\n",
       "         [ 91,  91,  91],\n",
       "         [ 91,  91,  91]],\n",
       "\n",
       "        [[222, 222, 222],\n",
       "         [222, 222, 222],\n",
       "         [222, 222, 222],\n",
       "         ...,\n",
       "         [ 90,  90,  90],\n",
       "         [ 91,  91,  91],\n",
       "         [ 91,  91,  91]],\n",
       "\n",
       "        ...,\n",
       "\n",
       "        [[ 76,  76,  76],\n",
       "         [ 76,  76,  76],\n",
       "         [ 79,  79,  79],\n",
       "         ...,\n",
       "         [ 60,  60,  60],\n",
       "         [ 58,  58,  58],\n",
       "         [ 57,  57,  57]],\n",
       "\n",
       "        [[ 75,  75,  75],\n",
       "         [ 75,  75,  75],\n",
       "         [ 78,  78,  78],\n",
       "         ...,\n",
       "         [ 59,  59,  59],\n",
       "         [ 57,  57,  57],\n",
       "         [ 55,  55,  55]],\n",
       "\n",
       "        [[ 75,  75,  75],\n",
       "         [ 75,  75,  75],\n",
       "         [ 78,  78,  78],\n",
       "         ...,\n",
       "         [ 59,  59,  59],\n",
       "         [ 57,  57,  57],\n",
       "         [ 55,  55,  55]]]], dtype=uint8)"
      ]
     },
     "execution_count": 396,
     "metadata": {},
     "output_type": "execute_result"
    }
   ],
   "source": [
    "vid_tensor = tl.tensor(frames_array)\n",
    "vid_tensor"
   ]
  },
  {
   "cell_type": "code",
   "execution_count": 397,
   "id": "dc66e324",
   "metadata": {},
   "outputs": [],
   "source": [
    "vid_ten=vid_tensor[:,:,:,0]"
   ]
  },
  {
   "cell_type": "code",
   "execution_count": 398,
   "id": "b2351d41",
   "metadata": {},
   "outputs": [
    {
     "data": {
      "text/plain": [
       "(129, 336, 592)"
      ]
     },
     "execution_count": 398,
     "metadata": {},
     "output_type": "execute_result"
    }
   ],
   "source": [
    "v_shape=vid_ten.shape\n",
    "v_shape"
   ]
  },
  {
   "cell_type": "code",
   "execution_count": 399,
   "id": "fbfd568c",
   "metadata": {},
   "outputs": [],
   "source": [
    "frame_size = (592,336)"
   ]
  },
  {
   "cell_type": "markdown",
   "id": "275af636",
   "metadata": {},
   "source": [
    "## HOSVD Decomposition"
   ]
  },
  {
   "cell_type": "markdown",
   "id": "5dbde332",
   "metadata": {},
   "source": [
    "### unfold 1 of tensor of video"
   ]
  },
  {
   "cell_type": "code",
   "execution_count": 405,
   "id": "288c8249",
   "metadata": {},
   "outputs": [
    {
     "data": {
      "text/plain": [
       "(129, 198912)"
      ]
     },
     "execution_count": 405,
     "metadata": {},
     "output_type": "execute_result"
    }
   ],
   "source": [
    "unfold1=tl.unfold(vid_ten, 0)\n",
    "unfold1.shape"
   ]
  },
  {
   "cell_type": "markdown",
   "id": "88c28bcd",
   "metadata": {},
   "source": [
    "### unfold 2 of tensor of video"
   ]
  },
  {
   "cell_type": "code",
   "execution_count": 406,
   "id": "947059ef",
   "metadata": {},
   "outputs": [
    {
     "data": {
      "text/plain": [
       "(336, 76368)"
      ]
     },
     "execution_count": 406,
     "metadata": {},
     "output_type": "execute_result"
    }
   ],
   "source": [
    "unfold2=tl.unfold(vid_ten, 1)\n",
    "unfold2.shape"
   ]
  },
  {
   "cell_type": "markdown",
   "id": "b62226f5",
   "metadata": {},
   "source": [
    "### unfold 3 of tensor of video"
   ]
  },
  {
   "cell_type": "code",
   "execution_count": 407,
   "id": "d6a77124",
   "metadata": {},
   "outputs": [
    {
     "data": {
      "text/plain": [
       "(592, 43344)"
      ]
     },
     "execution_count": 407,
     "metadata": {},
     "output_type": "execute_result"
    }
   ],
   "source": [
    "unfold3=tl.unfold(vid_ten, 2)\n",
    "unfold3.shape"
   ]
  },
  {
   "cell_type": "markdown",
   "id": "6c06a34d",
   "metadata": {},
   "source": [
    "### SVD docomposition on unfold 1 , unfold 2 and unfold 3 for computing U1,U2 and U3"
   ]
  },
  {
   "cell_type": "code",
   "execution_count": 408,
   "id": "15e6bee8",
   "metadata": {},
   "outputs": [],
   "source": [
    "U1, s1, V1 = np.linalg.svd(unfold1,full_matrices=False)\n",
    "U2, s2, V2 = np.linalg.svd(unfold2,full_matrices=False)\n",
    "U3, s3, V3 = np.linalg.svd(unfold3,full_matrices=False)"
   ]
  },
  {
   "cell_type": "markdown",
   "id": "d86aaaed",
   "metadata": {},
   "source": [
    "### computing S"
   ]
  },
  {
   "cell_type": "code",
   "execution_count": 409,
   "id": "6822e997",
   "metadata": {},
   "outputs": [],
   "source": [
    "A1=tl.tenalg.mode_dot(vid_ten, U1.T, 0)\n",
    "A2=tl.tenalg.mode_dot(A1, U2.T, 1)\n",
    "S=tl.tenalg.mode_dot(A2, U3.T, 2)"
   ]
  },
  {
   "cell_type": "code",
   "execution_count": 410,
   "id": "50aea07d",
   "metadata": {},
   "outputs": [
    {
     "data": {
      "text/plain": [
       "(129, 129)"
      ]
     },
     "execution_count": 410,
     "metadata": {},
     "output_type": "execute_result"
    }
   ],
   "source": [
    "U1.shape"
   ]
  },
  {
   "cell_type": "code",
   "execution_count": 411,
   "id": "50969b98",
   "metadata": {},
   "outputs": [
    {
     "data": {
      "text/plain": [
       "(336, 336)"
      ]
     },
     "execution_count": 411,
     "metadata": {},
     "output_type": "execute_result"
    }
   ],
   "source": [
    "U2.shape"
   ]
  },
  {
   "cell_type": "code",
   "execution_count": 412,
   "id": "bf973f07",
   "metadata": {},
   "outputs": [
    {
     "data": {
      "text/plain": [
       "(592, 592)"
      ]
     },
     "execution_count": 412,
     "metadata": {},
     "output_type": "execute_result"
    }
   ],
   "source": [
    "U3.shape"
   ]
  },
  {
   "cell_type": "code",
   "execution_count": 413,
   "id": "6feab238",
   "metadata": {},
   "outputs": [
    {
     "data": {
      "text/plain": [
       "(129, 336, 592)"
      ]
     },
     "execution_count": 413,
     "metadata": {},
     "output_type": "execute_result"
    }
   ],
   "source": [
    "S.shape"
   ]
  },
  {
   "cell_type": "markdown",
   "id": "4bdf25aa",
   "metadata": {},
   "source": [
    "## reconstruct the tensor with lower dimentions"
   ]
  },
  {
   "cell_type": "markdown",
   "id": "b98d44c7",
   "metadata": {},
   "source": [
    "### 20,50,50"
   ]
  },
  {
   "cell_type": "code",
   "execution_count": 414,
   "id": "1d5bf613",
   "metadata": {},
   "outputs": [],
   "source": [
    "T_reconst=np.zeros(v_shape)\n",
    "T_d1=tl.tenalg.mode_dot(S[:20,:50,:50], U1[:,:20], 0)\n",
    "T_d2=tl.tenalg.mode_dot(T_d1, U2[:,:50], 1)\n",
    "T_reconst=tl.tenalg.mode_dot(T_d2, U3[:,:50], 2)"
   ]
  },
  {
   "cell_type": "code",
   "execution_count": 415,
   "id": "117cf917",
   "metadata": {},
   "outputs": [
    {
     "data": {
      "text/plain": [
       "(129, 336, 592)"
      ]
     },
     "execution_count": 415,
     "metadata": {},
     "output_type": "execute_result"
    }
   ],
   "source": [
    "T_reconst.shape"
   ]
  },
  {
   "cell_type": "code",
   "execution_count": 416,
   "id": "64cc6586",
   "metadata": {},
   "outputs": [],
   "source": [
    "T_reconst = T_reconst.astype(np.uint8)"
   ]
  },
  {
   "cell_type": "markdown",
   "id": "4ae676af",
   "metadata": {},
   "source": [
    "### convert tensor to video"
   ]
  },
  {
   "cell_type": "code",
   "execution_count": 417,
   "id": "1df36171",
   "metadata": {},
   "outputs": [],
   "source": [
    "output1 = cv2.VideoWriter('compress1.mp4', cv2.VideoWriter_fourcc(*'XVID'), 20, frame_size,0)"
   ]
  },
  {
   "cell_type": "code",
   "execution_count": 418,
   "id": "cb1358c7",
   "metadata": {},
   "outputs": [],
   "source": [
    "for i in range(0,129):\n",
    "    output1.write(T_reconst[i])\n",
    "output1.release()"
   ]
  },
  {
   "cell_type": "markdown",
   "id": "54f0f3f4",
   "metadata": {},
   "source": [
    "### 50,70,100"
   ]
  },
  {
   "cell_type": "code",
   "execution_count": 419,
   "id": "4588e777",
   "metadata": {},
   "outputs": [],
   "source": [
    "T_reconst=np.zeros(v_shape)\n",
    "T_d1=tl.tenalg.mode_dot(S[:50,:70,:100], U1[:,:50], 0)\n",
    "T_d2=tl.tenalg.mode_dot(T_d1, U2[:,:70], 1)\n",
    "T_reconst=tl.tenalg.mode_dot(T_d2, U3[:,:100], 2)\n",
    "T_reconst = T_reconst.astype(np.uint8)"
   ]
  },
  {
   "cell_type": "markdown",
   "id": "402fbae8",
   "metadata": {},
   "source": [
    "### convert tensor to video"
   ]
  },
  {
   "cell_type": "code",
   "execution_count": 420,
   "id": "0f5059fd",
   "metadata": {},
   "outputs": [],
   "source": [
    "output2 = cv2.VideoWriter('compress2.mp4', cv2.VideoWriter_fourcc(*'XVID'), 20, frame_size,0)"
   ]
  },
  {
   "cell_type": "code",
   "execution_count": 421,
   "id": "18f4d302",
   "metadata": {},
   "outputs": [],
   "source": [
    "for i in range(0,129):\n",
    "    output2.write(T_reconst[i])\n",
    "output2.release()"
   ]
  },
  {
   "cell_type": "markdown",
   "id": "3d56f1ae",
   "metadata": {},
   "source": [
    "### 75,100,200"
   ]
  },
  {
   "cell_type": "code",
   "execution_count": 422,
   "id": "644f61f0",
   "metadata": {},
   "outputs": [],
   "source": [
    "T_reconst=np.zeros(v_shape)\n",
    "T_d1=tl.tenalg.mode_dot(S[:75,:100,:200], U1[:,:75], 0)\n",
    "T_d2=tl.tenalg.mode_dot(T_d1, U2[:,:100], 1)\n",
    "T_reconst=tl.tenalg.mode_dot(T_d2, U3[:,:200], 2)\n",
    "T_reconst = T_reconst.astype(np.uint8)"
   ]
  },
  {
   "cell_type": "markdown",
   "id": "958abe1b",
   "metadata": {},
   "source": [
    "### convert tensor to video"
   ]
  },
  {
   "cell_type": "code",
   "execution_count": 423,
   "id": "29a8668b",
   "metadata": {},
   "outputs": [],
   "source": [
    "output3 = cv2.VideoWriter('compress3.mp4', cv2.VideoWriter_fourcc(*'XVID'), 20, frame_size,0)"
   ]
  },
  {
   "cell_type": "code",
   "execution_count": 424,
   "id": "bcee628a",
   "metadata": {},
   "outputs": [],
   "source": [
    "for i in range(0,129):\n",
    "    output3.write(T_reconst[i])\n",
    "output3.release()"
   ]
  },
  {
   "cell_type": "markdown",
   "id": "15388b71",
   "metadata": {},
   "source": [
    "### 100,200,300"
   ]
  },
  {
   "cell_type": "code",
   "execution_count": 425,
   "id": "22a8aa99",
   "metadata": {},
   "outputs": [],
   "source": [
    "T_reconst=np.zeros(v_shape)\n",
    "T_d1=tl.tenalg.mode_dot(S[:100,:200,:300], U1[:,:100], 0)\n",
    "T_d2=tl.tenalg.mode_dot(T_d1, U2[:,:200], 1)\n",
    "T_reconst=tl.tenalg.mode_dot(T_d2, U3[:,:300], 2)\n",
    "T_reconst = T_reconst.astype(np.uint8)"
   ]
  },
  {
   "cell_type": "markdown",
   "id": "cfd13835",
   "metadata": {},
   "source": [
    "### convert tensor to video"
   ]
  },
  {
   "cell_type": "code",
   "execution_count": 426,
   "id": "55ba59f8",
   "metadata": {},
   "outputs": [],
   "source": [
    "output4 = cv2.VideoWriter('compress4.mp4', cv2.VideoWriter_fourcc(*'XVID'), 20, frame_size,0)"
   ]
  },
  {
   "cell_type": "code",
   "execution_count": 427,
   "id": "7f9b78ff",
   "metadata": {},
   "outputs": [],
   "source": [
    "for i in range(0,129):\n",
    "    output4.write(T_reconst[i])\n",
    "output4.release()"
   ]
  },
  {
   "cell_type": "code",
   "execution_count": null,
   "id": "25cc9df1",
   "metadata": {},
   "outputs": [],
   "source": []
  }
 ],
 "metadata": {
  "kernelspec": {
   "display_name": "Python 3 (ipykernel)",
   "language": "python",
   "name": "python3"
  },
  "language_info": {
   "codemirror_mode": {
    "name": "ipython",
    "version": 3
   },
   "file_extension": ".py",
   "mimetype": "text/x-python",
   "name": "python",
   "nbconvert_exporter": "python",
   "pygments_lexer": "ipython3",
   "version": "3.9.7"
  }
 },
 "nbformat": 4,
 "nbformat_minor": 5
}
